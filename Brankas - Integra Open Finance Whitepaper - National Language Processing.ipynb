{
 "cells": [
  {
   "cell_type": "markdown",
   "metadata": {},
   "source": [
    "## Literal Text Analysis on Brankas and Integra's Open Finance Whitepaper"
   ]
  },
  {
   "cell_type": "markdown",
   "metadata": {},
   "source": [
    "Last July 2021, [Brankas](https://brank.as/) and [Integra Partners](https://integrapartners.co/) released a whitepaper called \"[Embracing Open Finance in Southeast Asia](https://integrapartners.co/2021/07/27/embracing-open-finance-in-south-east-asia/).\" The paper details the many opportunities open finance brings to the region, how banks and financial services providers can take advantage of these opportunities, and how they can overcome the related challenges.\n",
    "\n",
    "I was curious about the words used in the whitepaper itself so I thought I would do a bit of digging. For this basic Natural Language Processing (NLP) analysis, I'll use [spaCy](https://spacy.io/) which is a free and open-source library for NLP in Python. I'll also use [pdfplumber](https://github.com/jsvine/pdfplumber) to extract the text from the whitepaper itself."
   ]
  },
  {
   "cell_type": "markdown",
   "metadata": {},
   "source": [
    "### Setting up the environment"
   ]
  },
  {
   "cell_type": "code",
   "execution_count": 1,
   "metadata": {},
   "outputs": [],
   "source": [
    "import numpy as np\n",
    "import pandas as pd\n",
    "import matplotlib.pyplot as plt\n",
    "import seaborn as sns\n",
    "sns.set()"
   ]
  },
  {
   "cell_type": "markdown",
   "metadata": {},
   "source": [
    "### Loading the dataset"
   ]
  },
  {
   "cell_type": "code",
   "execution_count": 2,
   "metadata": {},
   "outputs": [],
   "source": [
    "import pdfplumber"
   ]
  },
  {
   "cell_type": "code",
   "execution_count": 3,
   "metadata": {},
   "outputs": [],
   "source": [
    "## Loading the whitepaper itself\n",
    "pdf = pdfplumber.open(\"Open-Finance-Whitepaper-2021-July-26.pdf\")"
   ]
  },
  {
   "cell_type": "code",
   "execution_count": 4,
   "metadata": {},
   "outputs": [
    {
     "data": {
      "text/plain": [
       "{'Title': 'Open Finance Whitepaper (2021 July 26).docx',\n",
       " 'Producer': 'Skia/PDF m93 Google Docs Renderer'}"
      ]
     },
     "execution_count": 4,
     "metadata": {},
     "output_type": "execute_result"
    }
   ],
   "source": [
    "pdf.metadata"
   ]
  },
  {
   "cell_type": "markdown",
   "metadata": {},
   "source": [
    "### Pre-processing the dataset"
   ]
  },
  {
   "cell_type": "code",
   "execution_count": 5,
   "metadata": {},
   "outputs": [],
   "source": [
    "##Extracting all the pages except the title page\n",
    "all_page = []\n",
    "\n",
    "for i in range(1,49):\n",
    "    i_page = pdf.pages[i] ### Loads the pages into individual objects\n",
    "    i_page_text = i_page.extract_text().split() ### Extracts text from page and removes line breaks per page\n",
    "    i_page_text = ' '.join(i_page_text) ### Combines words into a single string\n",
    "    all_page.append(i_page_text) ### Compiles words from specified number of pages into one list\n",
    "\n",
    "## Turns list of words into one string\n",
    "all_page_text = ' '.join(all_page)"
   ]
  },
  {
   "cell_type": "markdown",
   "metadata": {},
   "source": [
    "### Tokenizing the text"
   ]
  },
  {
   "cell_type": "code",
   "execution_count": 6,
   "metadata": {},
   "outputs": [],
   "source": [
    "import spacy\n",
    "nlp = spacy.load('en_core_web_sm')"
   ]
  },
  {
   "cell_type": "code",
   "execution_count": 7,
   "metadata": {},
   "outputs": [],
   "source": [
    "all_page_doc = nlp(all_page_text)"
   ]
  },
  {
   "cell_type": "code",
   "execution_count": 8,
   "metadata": {},
   "outputs": [],
   "source": [
    "all_page_words = [token.lemma_ for token in all_page_doc if not token.is_stop and not token.is_punct]"
   ]
  },
  {
   "cell_type": "markdown",
   "metadata": {},
   "source": [
    "### Word Count"
   ]
  },
  {
   "cell_type": "markdown",
   "metadata": {},
   "source": [
    "Firstly, let's do a quick word count to see the common words that appeared in the paper."
   ]
  },
  {
   "cell_type": "code",
   "execution_count": 9,
   "metadata": {},
   "outputs": [],
   "source": [
    "from collections import Counter\n",
    "word_freq = Counter(all_page_words)"
   ]
  },
  {
   "cell_type": "code",
   "execution_count": 10,
   "metadata": {},
   "outputs": [],
   "source": [
    "word_freq = word_freq.most_common()"
   ]
  },
  {
   "cell_type": "code",
   "execution_count": 11,
   "metadata": {},
   "outputs": [
    {
     "data": {
      "text/plain": [
       "[('bank', 148),\n",
       " ('ﬁnance', 126),\n",
       " ('open', 122),\n",
       " ('customer', 82),\n",
       " ('digital', 72),\n",
       " ('service', 66),\n",
       " ('new', 65),\n",
       " ('ﬁnancial', 62),\n",
       " ('payment', 56),\n",
       " ('|', 51)]"
      ]
     },
     "execution_count": 11,
     "metadata": {},
     "output_type": "execute_result"
    }
   ],
   "source": [
    "word_freq[:10]"
   ]
  },
  {
   "cell_type": "code",
   "execution_count": 12,
   "metadata": {},
   "outputs": [
    {
     "data": {
      "text/html": [
       "<div>\n",
       "<style scoped>\n",
       "    .dataframe tbody tr th:only-of-type {\n",
       "        vertical-align: middle;\n",
       "    }\n",
       "\n",
       "    .dataframe tbody tr th {\n",
       "        vertical-align: top;\n",
       "    }\n",
       "\n",
       "    .dataframe thead th {\n",
       "        text-align: right;\n",
       "    }\n",
       "</style>\n",
       "<table border=\"1\" class=\"dataframe\">\n",
       "  <thead>\n",
       "    <tr style=\"text-align: right;\">\n",
       "      <th></th>\n",
       "      <th>words</th>\n",
       "      <th>count</th>\n",
       "    </tr>\n",
       "  </thead>\n",
       "  <tbody>\n",
       "    <tr>\n",
       "      <th>0</th>\n",
       "      <td>bank</td>\n",
       "      <td>148</td>\n",
       "    </tr>\n",
       "    <tr>\n",
       "      <th>1</th>\n",
       "      <td>ﬁnance</td>\n",
       "      <td>126</td>\n",
       "    </tr>\n",
       "    <tr>\n",
       "      <th>2</th>\n",
       "      <td>open</td>\n",
       "      <td>122</td>\n",
       "    </tr>\n",
       "    <tr>\n",
       "      <th>3</th>\n",
       "      <td>customer</td>\n",
       "      <td>82</td>\n",
       "    </tr>\n",
       "    <tr>\n",
       "      <th>4</th>\n",
       "      <td>digital</td>\n",
       "      <td>72</td>\n",
       "    </tr>\n",
       "  </tbody>\n",
       "</table>\n",
       "</div>"
      ],
      "text/plain": [
       "      words  count\n",
       "0      bank    148\n",
       "1    ﬁnance    126\n",
       "2      open    122\n",
       "3  customer     82\n",
       "4   digital     72"
      ]
     },
     "execution_count": 12,
     "metadata": {},
     "output_type": "execute_result"
    }
   ],
   "source": [
    "## Setting up the dataframe for further analysis\n",
    "df = pd.DataFrame(word_freq, columns=['words', 'count'])\n",
    "df.head()"
   ]
  },
  {
   "cell_type": "code",
   "execution_count": 13,
   "metadata": {},
   "outputs": [],
   "source": [
    "## Drop words that have 1 to 2 characters\n",
    "df['word length'] = df['words'].str.len()\n",
    "df = df[df['word length'] >=3 ]\n",
    "df = df.reset_index(drop=True)"
   ]
  },
  {
   "cell_type": "code",
   "execution_count": 14,
   "metadata": {},
   "outputs": [
    {
     "data": {
      "image/png": "[encoded data removed]",
      "text/plain": [
       "<Figure size 720x432 with 1 Axes>"
      ]
     },
     "metadata": {},
     "output_type": "display_data"
    }
   ],
   "source": [
    "## Visualizing the top 20 words\n",
    "plt.figure(figsize=(10,6))\n",
    "sns.barplot(y='words', x='count', data=df[:20], color='skyblue')\n",
    "plt.xlabel('Count')\n",
    "plt.ylabel('Words')\n",
    "plt.title('Top Words from Open Finance White Paper')\n",
    "plt.savefig('TopWords_Brankas_Integra_OpenFinance_2021.png', dpi=400)\n",
    "plt.show()"
   ]
  },
  {
   "cell_type": "markdown",
   "metadata": {},
   "source": [
    "Somewhat unsurprisingly, \"bank\", \"finance\", and \"open\" are the top 3 words. They are the main subjects after all. We also see \"customer\" and \"digital\" rounding out the top 5. \n",
    "\n",
    "Further down the list, \"API\", \"api\", and \"account\" also appear. APIs are indeed central to enabling open finance services. Interestingly though, could there be further opportunities regarding \"APIs\" and \"accounts\"? Perhaps API products centered around financial accounts?"
   ]
  },
  {
   "cell_type": "markdown",
   "metadata": {},
   "source": [
    "### Verbs"
   ]
  },
  {
   "cell_type": "markdown",
   "metadata": {},
   "source": [
    "They say whitepapers are a good opportunity to call players into action. Let's explore some of the top verbs used."
   ]
  },
  {
   "cell_type": "code",
   "execution_count": 15,
   "metadata": {},
   "outputs": [],
   "source": [
    "## Extracting verbs into a list\n",
    "verbs = []\n",
    "\n",
    "for token in all_page_doc:\n",
    "    if token.pos_ == 'VERB':\n",
    "        verbs.append(token.lemma_)"
   ]
  },
  {
   "cell_type": "code",
   "execution_count": 16,
   "metadata": {},
   "outputs": [],
   "source": [
    "## Counting each identified verb's frequency in the document\n",
    "verb_freq = Counter(verbs)\n",
    "verb_freq = verb_freq.most_common()"
   ]
  },
  {
   "cell_type": "code",
   "execution_count": 17,
   "metadata": {},
   "outputs": [
    {
     "data": {
      "text/html": [
       "<div>\n",
       "<style scoped>\n",
       "    .dataframe tbody tr th:only-of-type {\n",
       "        vertical-align: middle;\n",
       "    }\n",
       "\n",
       "    .dataframe tbody tr th {\n",
       "        vertical-align: top;\n",
       "    }\n",
       "\n",
       "    .dataframe thead th {\n",
       "        text-align: right;\n",
       "    }\n",
       "</style>\n",
       "<table border=\"1\" class=\"dataframe\">\n",
       "  <thead>\n",
       "    <tr style=\"text-align: right;\">\n",
       "      <th></th>\n",
       "      <th>verbs</th>\n",
       "      <th>count</th>\n",
       "    </tr>\n",
       "  </thead>\n",
       "  <tbody>\n",
       "    <tr>\n",
       "      <th>0</th>\n",
       "      <td>enable</td>\n",
       "      <td>30</td>\n",
       "    </tr>\n",
       "    <tr>\n",
       "      <th>1</th>\n",
       "      <td>be</td>\n",
       "      <td>30</td>\n",
       "    </tr>\n",
       "    <tr>\n",
       "      <th>2</th>\n",
       "      <td>have</td>\n",
       "      <td>24</td>\n",
       "    </tr>\n",
       "    <tr>\n",
       "      <th>3</th>\n",
       "      <td>open</td>\n",
       "      <td>22</td>\n",
       "    </tr>\n",
       "    <tr>\n",
       "      <th>4</th>\n",
       "      <td>allow</td>\n",
       "      <td>19</td>\n",
       "    </tr>\n",
       "  </tbody>\n",
       "</table>\n",
       "</div>"
      ],
      "text/plain": [
       "    verbs  count\n",
       "0  enable     30\n",
       "1      be     30\n",
       "2    have     24\n",
       "3    open     22\n",
       "4   allow     19"
      ]
     },
     "execution_count": 17,
     "metadata": {},
     "output_type": "execute_result"
    }
   ],
   "source": [
    "## Setting up the dataframe containing verbs\n",
    "df_verbs = pd.DataFrame(verb_freq, columns=['verbs', 'count'])\n",
    "df_verbs.head()"
   ]
  },
  {
   "cell_type": "code",
   "execution_count": 18,
   "metadata": {},
   "outputs": [
    {
     "name": "stderr",
     "output_type": "stream",
     "text": [
      "/Users/roberttiong/opt/anaconda3/lib/python3.8/site-packages/matplotlib/backends/backend_agg.py:238: RuntimeWarning: Glyph 0 missing from current font.\n",
      "  font.set_text(s, 0.0, flags=flags)\n",
      "/Users/roberttiong/opt/anaconda3/lib/python3.8/site-packages/matplotlib/backends/backend_agg.py:201: RuntimeWarning: Glyph 0 missing from current font.\n",
      "  font.set_text(s, 0, flags=flags)\n"
     ]
    },
    {
     "data": {
      "image/png": "[encoded data removed]",
      "text/plain": [
       "<Figure size 720x432 with 1 Axes>"
      ]
     },
     "metadata": {},
     "output_type": "display_data"
    }
   ],
   "source": [
    "## Visualizing the top 20 verbs\n",
    "plt.figure(figsize=(10,6))\n",
    "sns.barplot(x='count', y='verbs', data=df_verbs[:20], color='orange')\n",
    "plt.xlabel('Count')\n",
    "plt.ylabel('Verbs')\n",
    "plt.title('Top Verbs from Open Finance Whitepaper')\n",
    "plt.savefig('TopVerbs_Brankas_Integra_OpenFinance2021.png', dpi=400)\n",
    "plt.show()"
   ]
  },
  {
   "cell_type": "markdown",
   "metadata": {},
   "source": [
    "We see the words \"enable\", \"open\", and \"allow\" in the top 5 which is in theme with the message of open finance. \n",
    "\n",
    "We also see the words \"create\", \"adapt\" and \"build.\" Would you need to create new systems to take advantage of the opportunities or do you need to just adapt current systems to new financial use cases?"
   ]
  },
  {
   "cell_type": "markdown",
   "metadata": {},
   "source": [
    "### Organizations and Companies"
   ]
  },
  {
   "cell_type": "markdown",
   "metadata": {},
   "source": [
    "Mainly out of curiousity, I wanted to also see if any organizations or companies were named in the whitepaper. It might give us an idea who are the players to watch or who would have a key role in the region."
   ]
  },
  {
   "cell_type": "code",
   "execution_count": 19,
   "metadata": {},
   "outputs": [],
   "source": [
    "## Extracting named entities and properties into a list\n",
    "all_page_ents = [(ent.text, ent.label_, spacy.explain(ent.label_)) for ent in all_page_doc.ents]"
   ]
  },
  {
   "cell_type": "code",
   "execution_count": 20,
   "metadata": {},
   "outputs": [],
   "source": [
    "## Putting all organizations in a list\n",
    "orgs = []\n",
    "\n",
    "for ent in all_page_doc.ents:\n",
    "    if ent.label_ == 'ORG':\n",
    "        orgs.append(ent.text)"
   ]
  },
  {
   "cell_type": "code",
   "execution_count": 21,
   "metadata": {},
   "outputs": [],
   "source": [
    "## Counting each named organization's frequency in the document\n",
    "org_freq = Counter(orgs)\n",
    "org_freq = org_freq.most_common()"
   ]
  },
  {
   "cell_type": "code",
   "execution_count": 22,
   "metadata": {},
   "outputs": [],
   "source": [
    "## Setting up dataframe containing organizations and their respective counts\n",
    "df_orgs = pd.DataFrame(org_freq, columns=['orgs','count'])"
   ]
  },
  {
   "cell_type": "code",
   "execution_count": 23,
   "metadata": {},
   "outputs": [
    {
     "data": {
      "text/html": [
       "<div>\n",
       "<style scoped>\n",
       "    .dataframe tbody tr th:only-of-type {\n",
       "        vertical-align: middle;\n",
       "    }\n",
       "\n",
       "    .dataframe tbody tr th {\n",
       "        vertical-align: top;\n",
       "    }\n",
       "\n",
       "    .dataframe thead th {\n",
       "        text-align: right;\n",
       "    }\n",
       "</style>\n",
       "<table border=\"1\" class=\"dataframe\">\n",
       "  <thead>\n",
       "    <tr style=\"text-align: right;\">\n",
       "      <th></th>\n",
       "      <th>orgs</th>\n",
       "      <th>count</th>\n",
       "    </tr>\n",
       "  </thead>\n",
       "  <tbody>\n",
       "    <tr>\n",
       "      <th>0</th>\n",
       "      <td>KYC</td>\n",
       "      <td>9</td>\n",
       "    </tr>\n",
       "    <tr>\n",
       "      <th>1</th>\n",
       "      <td>ASEAN</td>\n",
       "      <td>8</td>\n",
       "    </tr>\n",
       "    <tr>\n",
       "      <th>2</th>\n",
       "      <td>Digital</td>\n",
       "      <td>8</td>\n",
       "    </tr>\n",
       "    <tr>\n",
       "      <th>3</th>\n",
       "      <td>Brankas</td>\n",
       "      <td>7</td>\n",
       "    </tr>\n",
       "    <tr>\n",
       "      <th>4</th>\n",
       "      <td>UnionBank</td>\n",
       "      <td>7</td>\n",
       "    </tr>\n",
       "  </tbody>\n",
       "</table>\n",
       "</div>"
      ],
      "text/plain": [
       "        orgs  count\n",
       "0        KYC      9\n",
       "1      ASEAN      8\n",
       "2    Digital      8\n",
       "3    Brankas      7\n",
       "4  UnionBank      7"
      ]
     },
     "execution_count": 23,
     "metadata": {},
     "output_type": "execute_result"
    }
   ],
   "source": [
    "df_orgs.head()"
   ]
  },
  {
   "cell_type": "code",
   "execution_count": 24,
   "metadata": {},
   "outputs": [
    {
     "data": {
      "image/png": "[encoded data removed]",
      "text/plain": [
       "<Figure size 720x432 with 1 Axes>"
      ]
     },
     "metadata": {},
     "output_type": "display_data"
    }
   ],
   "source": [
    "## Visualizing the top 10 organizations\n",
    "plt.figure(figsize=(10,6))\n",
    "sns.barplot(x='count', y='orgs', data=df_orgs[:10])\n",
    "plt.xlabel('Count')\n",
    "plt.ylabel('Organizations')\n",
    "plt.title('Organizations mentioned in Southeast Asia Open Finance Whitepaper')\n",
    "plt.savefig('TopOrgs_Brankas_Integra_OpenFinance_2021.png', dpi=400)\n",
    "plt.show()"
   ]
  },
  {
   "cell_type": "markdown",
   "metadata": {},
   "source": [
    "Well the spaCy package isn't perfect as you can see. \"KYC\" and \"Digital\" certainly aren't organizations.\n",
    "\n",
    "Unionbank, eCebuana, UOB, and CIMB Bank get mentioned here. Maybe they're the institutions to watch? We'll definitely see if that is the case as the opportunities continue to grow in the region.\n",
    "\n",
    "I'm presuming \"BI\" here is Bank Indonesia who will surely play a big role from a regulatory standpoint in the region's biggest economy."
   ]
  },
  {
   "cell_type": "markdown",
   "metadata": {},
   "source": [
    "### Locations"
   ]
  },
  {
   "cell_type": "markdown",
   "metadata": {},
   "source": [
    "Lastly, let's take a look at the locations, countries or cities mentioned."
   ]
  },
  {
   "cell_type": "code",
   "execution_count": 25,
   "metadata": {},
   "outputs": [],
   "source": [
    "## Putting all locations in a list\n",
    "locs = []\n",
    "\n",
    "for ent in all_page_doc.ents:\n",
    "    if ent.label_ == 'GPE':\n",
    "        locs.append(ent.text)"
   ]
  },
  {
   "cell_type": "code",
   "execution_count": 26,
   "metadata": {},
   "outputs": [],
   "source": [
    "## Counting each named location's frequency in the document\n",
    "locs_freq = Counter(locs)\n",
    "locs_freq = locs_freq.most_common()"
   ]
  },
  {
   "cell_type": "code",
   "execution_count": 27,
   "metadata": {},
   "outputs": [],
   "source": [
    "## Setting up dataframe containing locations and their respective counts\n",
    "df_locs = pd.DataFrame(locs_freq, columns=['locations', 'count'])"
   ]
  },
  {
   "cell_type": "code",
   "execution_count": 28,
   "metadata": {},
   "outputs": [
    {
     "data": {
      "image/png": "[encoded data removed]",
      "text/plain": [
       "<Figure size 720x432 with 1 Axes>"
      ]
     },
     "metadata": {},
     "output_type": "display_data"
    }
   ],
   "source": [
    "## Visualizing the top 5 locations\n",
    "plt.figure(figsize=(10,6))\n",
    "sns.barplot(x='count', y='locations', data=df_locs[:5])\n",
    "plt.xlabel('Count')\n",
    "plt.ylabel('Locations')\n",
    "plt.title('Locations mentioned in Southeast Asia Open Finance Whitepaper')\n",
    "plt.savefig('TopLocs_Brankas_Integra_OpenFinance_2021.png', dpi=400)\n",
    "plt.show()"
   ]
  },
  {
   "cell_type": "markdown",
   "metadata": {},
   "source": [
    "Indonesia and the Philippines are the top 2. These countries do have a lot of need when it comes to financial infrastructure. In addition to this, they also huge unbanked and underbanked populations.\n",
    "\n",
    "While spaCy again isn't perfect, it's interesting to see GCash here, which is the leading e-wallet in the Philippines operated by Mynt. Are they another institution to watch or perhaps even learn from when it comes to providing financial access?"
   ]
  },
  {
   "cell_type": "markdown",
   "metadata": {},
   "source": [
    "---\n",
    "If this at all made you more interested about Open Finance in Southeast Asia, I encourage you to check out the [whitepaper itself here](https://integrapartners.co/2021/07/27/embracing-open-finance-in-south-east-asia/). Nothing beats reading the actual thing after all.\n",
    "\n",
    "If you want to go even deeper and take advantage of the many opportunities open finance brings, reach out to [Brankas](https://brank.as/). They can definitely help."
   ]
  }
 ],
 "metadata": {
  "kernelspec": {
   "display_name": "Python 3",
   "language": "python",
   "name": "python3"
  },
  "language_info": {
   "codemirror_mode": {
    "name": "ipython",
    "version": 3
   },
   "file_extension": ".py",
   "mimetype": "text/x-python",
   "name": "python",
   "nbconvert_exporter": "python",
   "pygments_lexer": "ipython3",
   "version": "3.8.5"
  }
 },
 "nbformat": 4,
 "nbformat_minor": 4
}
